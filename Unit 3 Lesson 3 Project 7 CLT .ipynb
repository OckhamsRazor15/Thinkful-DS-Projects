{
 "cells": [
  {
   "cell_type": "code",
   "execution_count": 1,
   "metadata": {},
   "outputs": [],
   "source": [
    "import numpy as np\n",
    "import pandas as pd\n",
    "import matplotlib.pyplot as plt\n",
    "%matplotlib inline"
   ]
  },
  {
   "cell_type": "code",
   "execution_count": 24,
   "metadata": {},
   "outputs": [
    {
     "name": "stdout",
     "output_type": "stream",
     "text": [
      "10.0136557648\n",
      "9.97334745434\n"
     ]
    }
   ],
   "source": [
    "pop1 = np.random.normal(10, .4, 10000)\n",
    "pop2 = np.random.normal(10, .5, 10000)\n",
    "\n",
    "s1 = np.random.choice(pop1, 1000, replace=True)\n",
    "s2 = np.random.choice(pop2, 1000, replace=True)\n",
    "\n",
    "s1_mean = s1.mean()\n",
    "s1_std = s1.std()\n",
    "s2_mean = s2.mean()\n",
    "s2_std = s2.std()\n",
    "print(s1_mean)\n",
    "print(s2_mean)"
   ]
  },
  {
   "cell_type": "code",
   "execution_count": 25,
   "metadata": {},
   "outputs": [],
   "source": [
    "#question 1\n",
    "#My guess is that as the sample size increases, the graph will look more and more like a normal distribution"
   ]
  },
  {
   "cell_type": "code",
   "execution_count": 26,
   "metadata": {},
   "outputs": [
    {
     "data": {
      "text/plain": [
       "(array([   2.,    8.,   62.,  161.,  232.,  246.,  190.,   76.,   21.,    2.]),\n",
       " array([  8.62565781,   8.89640048,   9.16714314,   9.4378858 ,\n",
       "          9.70862846,   9.97937112,  10.25011378,  10.52085644,\n",
       "         10.7915991 ,  11.06234177,  11.33308443]),\n",
       " <a list of 10 Patch objects>)"
      ]
     },
     "execution_count": 26,
     "metadata": {},
     "output_type": "execute_result"
    },
    {
     "data": {
      "image/png": "[encoded data removed]",
      "text/plain": [
       "<matplotlib.figure.Figure at 0x701a710>"
      ]
     },
     "metadata": {},
     "output_type": "display_data"
    }
   ],
   "source": [
    "plt.hist(s1)"
   ]
  },
  {
   "cell_type": "code",
   "execution_count": 27,
   "metadata": {},
   "outputs": [
    {
     "data": {
      "text/plain": [
       "(array([  11.,   24.,  101.,  225.,  278.,  197.,  111.,   40.,   11.,    2.]),\n",
       " array([  8.43809371,   8.77573349,   9.11337327,   9.45101305,\n",
       "          9.78865283,  10.12629261,  10.46393239,  10.80157217,\n",
       "         11.13921196,  11.47685174,  11.81449152]),\n",
       " <a list of 10 Patch objects>)"
      ]
     },
     "execution_count": 27,
     "metadata": {},
     "output_type": "execute_result"
    },
    {
     "data": {
      "image/png": "[encoded data removed]",
      "text/plain": [
       "<matplotlib.figure.Figure at 0xde53730>"
      ]
     },
     "metadata": {},
     "output_type": "display_data"
    }
   ],
   "source": [
    "plt.hist(s2)"
   ]
  },
  {
   "cell_type": "code",
   "execution_count": 28,
   "metadata": {},
   "outputs": [
    {
     "name": "stdout",
     "output_type": "stream",
     "text": [
      "2.01565112569\n",
      "Ttest_indResult(statistic=-2.0146430480434194, pvalue=0.044082353607257672)\n"
     ]
    }
   ],
   "source": [
    "diff = s1.mean() - s2.mean()\n",
    "\n",
    "size = np.array([len(s1), len(s2)])\n",
    "sd = np.array([s1.std(), s2.std()])\n",
    "\n",
    "diff_se = (sum(sd ** 2 / size)) ** 0.5\n",
    "\n",
    "print(diff/diff_se)\n",
    "from scipy.stats import ttest_ind\n",
    "print(ttest_ind(s2, s1, equal_var=False))"
   ]
  },
  {
   "cell_type": "code",
   "execution_count": 29,
   "metadata": {},
   "outputs": [],
   "source": [
    "#question 2\n",
    "#the first histogram looks more like a normal distribution. The t value also dropped by half."
   ]
  },
  {
   "cell_type": "code",
   "execution_count": null,
   "metadata": {},
   "outputs": [],
   "source": [
    "#question 3\n",
    "# after changing the binomial distribution to normal, the t-value dropped drastically and the means about tripled."
   ]
  }
 ],
 "metadata": {
  "kernelspec": {
   "display_name": "Python 3",
   "language": "python",
   "name": "python3"
  },
  "language_info": {
   "codemirror_mode": {
    "name": "ipython",
    "version": 3
   },
   "file_extension": ".py",
   "mimetype": "text/x-python",
   "name": "python",
   "nbconvert_exporter": "python",
   "pygments_lexer": "ipython3",
   "version": "3.6.4"
  }
 },
 "nbformat": 4,
 "nbformat_minor": 2
}
