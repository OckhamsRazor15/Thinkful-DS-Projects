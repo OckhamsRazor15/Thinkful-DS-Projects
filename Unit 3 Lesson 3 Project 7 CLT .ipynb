{
 "cells": [
  {
   "cell_type": "code",
   "execution_count": 1,
   "metadata": {},
   "outputs": [],
   "source": [
    "import numpy as np\n",
    "import pandas as pd\n",
    "import matplotlib.pyplot as plt\n",
    "%matplotlib inline"
   ]
  },
  {
   "cell_type": "code",
   "execution_count": 43,
   "metadata": {},
   "outputs": [
    {
     "name": "stdout",
     "output_type": "stream",
     "text": [
      "2.04\n",
      "4.94\n",
      "1.2721635115\n",
      "1.64207186201\n"
     ]
    }
   ],
   "source": [
    "pop1 = np.random.binomial(10, .2, 10000)\n",
    "pop2 = np.random.binomial(10, .5, 10000)\n",
    "\n",
    "s1 = np.random.choice(pop1, 100, replace=True)\n",
    "s2 = np.random.choice(pop2, 100, replace=True)\n",
    "\n",
    "s1_mean = s1.mean()\n",
    "s1_std = s1.std()\n",
    "s2_mean = s2.mean()\n",
    "s2_std = s2.std()\n",
    "print(s1_mean)\n",
    "print(s2_mean)\n",
    "print(s1_std)\n",
    "print(s2_std)"
   ]
  },
  {
   "cell_type": "code",
   "execution_count": 42,
   "metadata": {},
   "outputs": [
    {
     "name": "stdout",
     "output_type": "stream",
     "text": [
      "1.995\n",
      "4.973\n",
      "1.26529640796\n",
      "1.63348431275\n"
     ]
    }
   ],
   "source": [
    "s1 = np.random.choice(pop1, 1000, replace=True)\n",
    "s2 = np.random.choice(pop2, 1000, replace=True)\n",
    "\n",
    "s1_mean = s1.mean()\n",
    "s1_std = s1.std()\n",
    "s2_mean = s2.mean()\n",
    "s2_std = s2.std()\n",
    "print(s1_mean)\n",
    "print(s2_mean)\n",
    "print(s1_std)\n",
    "print(s2_std)"
   ]
  },
  {
   "cell_type": "code",
   "execution_count": 25,
   "metadata": {},
   "outputs": [],
   "source": [
    "#question 1\n",
    "#My guess is that as the sample size increases, the graph will look more and more like a normal distribution"
   ]
  },
  {
   "cell_type": "code",
   "execution_count": 33,
   "metadata": {},
   "outputs": [
    {
     "data": {
      "text/plain": [
       "(array([ 107.,  236.,  323.,    0.,  205.,   84.,    0.,   42.,    2.,    1.]),\n",
       " array([ 0. ,  0.7,  1.4,  2.1,  2.8,  3.5,  4.2,  4.9,  5.6,  6.3,  7. ]),\n",
       " <a list of 10 Patch objects>)"
      ]
     },
     "execution_count": 33,
     "metadata": {},
     "output_type": "execute_result"
    },
    {
     "data": {
      "image/png": "[encoded data removed]",
      "text/plain": [
       "<matplotlib.figure.Figure at 0xdeb1d10>"
      ]
     },
     "metadata": {},
     "output_type": "display_data"
    }
   ],
   "source": [
    "plt.hist(s1)"
   ]
  },
  {
   "cell_type": "code",
   "execution_count": 34,
   "metadata": {},
   "outputs": [
    {
     "data": {
      "text/plain": [
       "(array([   8.,   47.,  102.,  210.,    0.,  222.,  227.,  116.,   57.,   11.]),\n",
       " array([ 1. ,  1.8,  2.6,  3.4,  4.2,  5. ,  5.8,  6.6,  7.4,  8.2,  9. ]),\n",
       " <a list of 10 Patch objects>)"
      ]
     },
     "execution_count": 34,
     "metadata": {},
     "output_type": "execute_result"
    },
    {
     "data": {
      "image/png": "[encoded data removed]",
      "text/plain": [
       "<matplotlib.figure.Figure at 0xdee9bb0>"
      ]
     },
     "metadata": {},
     "output_type": "display_data"
    }
   ],
   "source": [
    "plt.hist(s2)"
   ]
  },
  {
   "cell_type": "code",
   "execution_count": 44,
   "metadata": {},
   "outputs": [
    {
     "name": "stdout",
     "output_type": "stream",
     "text": [
      "2.05\n",
      "4.7\n",
      "1.07121426428\n",
      "1.73493515729\n"
     ]
    }
   ],
   "source": [
    "s1 = np.random.choice(pop1, 20, replace=True)\n",
    "s2 = np.random.choice(pop2, 20, replace=True)\n",
    "\n",
    "s1_mean = s1.mean()\n",
    "s1_std = s1.std()\n",
    "s2_mean = s2.mean()\n",
    "s2_std = s2.std()\n",
    "print(s1_mean)\n",
    "print(s2_mean)\n",
    "print(s1_std)\n",
    "print(s2_std)"
   ]
  },
  {
   "cell_type": "code",
   "execution_count": 40,
   "metadata": {},
   "outputs": [
    {
     "data": {
      "text/plain": [
       "(array([ 4.,  0.,  0.,  9.,  0.,  0.,  5.,  0.,  0.,  2.]),\n",
       " array([ 1. ,  1.3,  1.6,  1.9,  2.2,  2.5,  2.8,  3.1,  3.4,  3.7,  4. ]),\n",
       " <a list of 10 Patch objects>)"
      ]
     },
     "execution_count": 40,
     "metadata": {},
     "output_type": "execute_result"
    },
    {
     "data": {
      "image/png": "[encoded data removed]",
      "text/plain": [
       "<matplotlib.figure.Figure at 0xdda0570>"
      ]
     },
     "metadata": {},
     "output_type": "display_data"
    }
   ],
   "source": [
    "plt.hist(s1)"
   ]
  },
  {
   "cell_type": "code",
   "execution_count": 41,
   "metadata": {},
   "outputs": [
    {
     "data": {
      "text/plain": [
       "(array([ 2.,  0.,  0.,  7.,  0.,  4.,  5.,  0.,  1.,  1.]),\n",
       " array([ 1. ,  1.8,  2.6,  3.4,  4.2,  5. ,  5.8,  6.6,  7.4,  8.2,  9. ]),\n",
       " <a list of 10 Patch objects>)"
      ]
     },
     "execution_count": 41,
     "metadata": {},
     "output_type": "execute_result"
    },
    {
     "data": {
      "image/png": "[encoded data removed]",
      "text/plain": [
       "<matplotlib.figure.Figure at 0x5232670>"
      ]
     },
     "metadata": {},
     "output_type": "display_data"
    }
   ],
   "source": [
    "plt.hist(s2)"
   ]
  },
  {
   "cell_type": "code",
   "execution_count": 45,
   "metadata": {},
   "outputs": [
    {
     "name": "stdout",
     "output_type": "stream",
     "text": [
      "2.81\n",
      "4.96\n",
      "1.33187837283\n",
      "1.51604749266\n"
     ]
    }
   ],
   "source": [
    "pop1 = np.random.binomial(10, .3, 10000)\n",
    "pop2 = np.random.binomial(10, .5, 10000)\n",
    "\n",
    "s1 = np.random.choice(pop1, 100, replace=True)\n",
    "s2 = np.random.choice(pop2, 100, replace=True)\n",
    "\n",
    "s1_mean = s1.mean()\n",
    "s1_std = s1.std()\n",
    "s2_mean = s2.mean()\n",
    "s2_std = s2.std()\n",
    "print(s1_mean)\n",
    "print(s2_mean)\n",
    "print(s1_std)\n",
    "print(s2_std)"
   ]
  },
  {
   "cell_type": "code",
   "execution_count": 46,
   "metadata": {},
   "outputs": [
    {
     "name": "stdout",
     "output_type": "stream",
     "text": [
      "-10.654144378\n",
      "Ttest_indResult(statistic=10.600739809212147, pvalue=5.0851207779732618e-21)\n"
     ]
    }
   ],
   "source": [
    "diff = s1.mean() - s2.mean()\n",
    "\n",
    "size = np.array([len(s1), len(s2)])\n",
    "sd = np.array([s1.std(), s2.std()])\n",
    "\n",
    "diff_se = (sum(sd ** 2 / size)) ** 0.5\n",
    "\n",
    "print(diff/diff_se)\n",
    "from scipy.stats import ttest_ind\n",
    "print(ttest_ind(s2, s1, equal_var=False))"
   ]
  },
  {
   "cell_type": "code",
   "execution_count": 47,
   "metadata": {},
   "outputs": [
    {
     "name": "stdout",
     "output_type": "stream",
     "text": [
      "3.95\n",
      "4.8\n",
      "1.49916643506\n",
      "1.5748015748\n"
     ]
    }
   ],
   "source": [
    "pop1 = np.random.binomial(10, .4, 10000)\n",
    "pop2 = np.random.binomial(10, .5, 10000)\n",
    "\n",
    "s1 = np.random.choice(pop1, 100, replace=True)\n",
    "s2 = np.random.choice(pop2, 100, replace=True)\n",
    "\n",
    "s1_mean = s1.mean()\n",
    "s1_std = s1.std()\n",
    "s2_mean = s2.mean()\n",
    "s2_std = s2.std()\n",
    "print(s1_mean)\n",
    "print(s2_mean)\n",
    "print(s1_std)\n",
    "print(s2_std)"
   ]
  },
  {
   "cell_type": "code",
   "execution_count": 48,
   "metadata": {},
   "outputs": [
    {
     "name": "stdout",
     "output_type": "stream",
     "text": [
      "-3.90933742346\n",
      "Ttest_indResult(statistic=3.889741623748812, pvalue=0.00013707148763104836)\n"
     ]
    }
   ],
   "source": [
    "diff = s1.mean() - s2.mean()\n",
    "\n",
    "size = np.array([len(s1), len(s2)])\n",
    "sd = np.array([s1.std(), s2.std()])\n",
    "\n",
    "diff_se = (sum(sd ** 2 / size)) ** 0.5\n",
    "\n",
    "print(diff/diff_se)\n",
    "from scipy.stats import ttest_ind\n",
    "print(ttest_ind(s2, s1, equal_var=False))"
   ]
  },
  {
   "cell_type": "code",
   "execution_count": 49,
   "metadata": {},
   "outputs": [
    {
     "name": "stdout",
     "output_type": "stream",
     "text": [
      "9.98995590961\n",
      "9.95511454958\n",
      "0.446751138801\n",
      "0.459832673787\n"
     ]
    }
   ],
   "source": [
    "pop1 = np.random.normal(10, .4, 10000)\n",
    "pop2 = np.random.normal(10, .5, 10000)\n",
    "\n",
    "s1 = np.random.choice(pop1, 100, replace=True)\n",
    "s2 = np.random.choice(pop2, 100, replace=True)\n",
    "\n",
    "s1_mean = s1.mean()\n",
    "s1_std = s1.std()\n",
    "s2_mean = s2.mean()\n",
    "s2_std = s2.std()\n",
    "print(s1_mean)\n",
    "print(s2_mean)\n",
    "print(s1_std)\n",
    "print(s2_std)"
   ]
  },
  {
   "cell_type": "code",
   "execution_count": null,
   "metadata": {},
   "outputs": [],
   "source": []
  },
  {
   "cell_type": "code",
   "execution_count": 29,
   "metadata": {},
   "outputs": [],
   "source": [
    "#question 2\n",
    "#the first histogram looks more like a normal distribution. The t value also dropped by half."
   ]
  },
  {
   "cell_type": "code",
   "execution_count": null,
   "metadata": {},
   "outputs": [],
   "source": [
    "#question 3\n",
    "# after changing the binomial distribution to normal, the t-value dropped drastically and the means about tripled."
   ]
  }
 ],
 "metadata": {
  "kernelspec": {
   "display_name": "Python 3",
   "language": "python",
   "name": "python3"
  },
  "language_info": {
   "codemirror_mode": {
    "name": "ipython",
    "version": 3
   },
   "file_extension": ".py",
   "mimetype": "text/x-python",
   "name": "python",
   "nbconvert_exporter": "python",
   "pygments_lexer": "ipython3",
   "version": "3.6.4"
  }
 },
 "nbformat": 4,
 "nbformat_minor": 2
}
