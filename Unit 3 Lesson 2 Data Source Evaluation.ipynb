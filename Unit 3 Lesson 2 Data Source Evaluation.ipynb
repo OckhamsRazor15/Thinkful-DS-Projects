{
 "cells": [
  {
   "cell_type": "raw",
   "metadata": {},
   "source": [
    "#DS 1\n",
    "Since you are looking at data from december 24th, your data will be skewed since that would be an exceptional renting time. It wouldn't give you the answers that you are looking for.\n",
    "\n"
   ]
  },
  {
   "cell_type": "raw",
   "metadata": {},
   "source": [
    "#DS 2\n",
    "A day after 9/11 wouldn't be a good day to get data from NY because it will not give you a good pattern. It will give exceptional data"
   ]
  },
  {
   "cell_type": "raw",
   "metadata": {},
   "source": [
    "#DS 3\n",
    "A few things wrong here. \n",
    "\n",
    "- 90% or so of the data is only collected from students\n",
    "- student income will be lower, so data could be skewed towards cheaper pubs"
   ]
  }
 ],
 "metadata": {
  "kernelspec": {
   "display_name": "Python 3",
   "language": "python",
   "name": "python3"
  },
  "language_info": {
   "codemirror_mode": {
    "name": "ipython",
    "version": 3
   },
   "file_extension": ".py",
   "mimetype": "text/x-python",
   "name": "python",
   "nbconvert_exporter": "python",
   "pygments_lexer": "ipython3",
   "version": "3.6.4"
  }
 },
 "nbformat": 4,
 "nbformat_minor": 2
}
